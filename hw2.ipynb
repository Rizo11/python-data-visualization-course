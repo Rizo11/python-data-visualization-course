{
 "cells": [
  {
   "cell_type": "code",
   "execution_count": 8,
   "id": "703c8913",
   "metadata": {},
   "outputs": [
    {
     "name": "stdout",
     "output_type": "stream",
     "text": [
      "what kind of shoes I want to buy today: a\n",
      "what kind of cap I want to buy today: b\n",
      "what kind of sun glasses I want to buy today: c\n",
      "what kind of t-shirt I want to buy today: d\n",
      "if I am at the shop, do not forget to buy b, c, d, a. if not CHILL\n",
      "\n"
     ]
    }
   ],
   "source": [
    "item1 = input(\"what kind of shoes I want to buy today: \")\n",
    "item2 = input(\"what kind of cap I want to buy today: \")\n",
    "item3 = input(\"what kind of sun glasses I want to buy today: \")\n",
    "item4 = input(\"what kind of t-shirt I want to buy today: \")\n",
    "print(\"if I am at the shop, do not forget to buy {1}, {2}, {3}, {0}. if not CHILL\\n\".format(item1, item2, item3, item4))"
   ]
  },
  {
   "cell_type": "code",
   "execution_count": null,
   "id": "85a18468",
   "metadata": {},
   "outputs": [],
   "source": []
  }
 ],
 "metadata": {
  "kernelspec": {
   "display_name": "Python 3",
   "language": "python",
   "name": "python3"
  },
  "language_info": {
   "codemirror_mode": {
    "name": "ipython",
    "version": 3
   },
   "file_extension": ".py",
   "mimetype": "text/x-python",
   "name": "python",
   "nbconvert_exporter": "python",
   "pygments_lexer": "ipython3",
   "version": "3.8.8"
  }
 },
 "nbformat": 4,
 "nbformat_minor": 5
}
